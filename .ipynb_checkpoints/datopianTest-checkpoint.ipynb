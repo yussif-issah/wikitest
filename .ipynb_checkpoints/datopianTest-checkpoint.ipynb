{
 "cells": [
  {
   "cell_type": "code",
   "execution_count": 2,
   "metadata": {},
   "outputs": [],
   "source": [
    "from bs4 import BeautifulSoup\n",
    "from scrapy import Selector\n",
    "import requests\n",
    "import numpy as np \n",
    "import pandas as pd\n",
    "import matplotlib.pyplot as plt \n",
    "import seaborn as sns"
   ]
  },
  {
   "cell_type": "code",
   "execution_count": 3,
   "metadata": {},
   "outputs": [],
   "source": [
    "url = ' https://en.wikipedia.org/wiki/Road_safety_in_Europe'\n",
    "html = requests.get(url).content"
   ]
  },
  {
   "cell_type": "code",
   "execution_count": 4,
   "metadata": {},
   "outputs": [
    {
     "data": {
      "text/plain": [
       "['Country',\n",
       " 'Area',\n",
       " 'Population in 2018',\n",
       " 'GDP per capita in 2018',\n",
       " 'Population density',\n",
       " 'Vehicle ownership',\n",
       " 'Road Network Length',\n",
       " 'Total Road Deaths in 2018',\n",
       " 'Road deaths',\n",
       " 'Number of People Killed',\n",
       " 'Number of Seriously Injured in 2017/2018']"
      ]
     },
     "execution_count": 4,
     "metadata": {},
     "output_type": "execute_result"
    }
   ],
   "source": [
    "sel=Selector(text=html)\n",
    "table_title=sel.xpath('//table[@class=\"wikitable sortable\"]/caption/text()').extract()\n",
    "table_columns=sel.xpath('//table[@class=\"wikitable sortable\"]/tbody/tr/th/text()')\n",
    "columns=[]\n",
    "\n",
    "for col in table_columns:\n",
    "    col=col.extract().replace('\\n','')\n",
    "    if col !='':\n",
    "        columns.append(col)\n",
    "columns"
   ]
  },
  {
   "cell_type": "code",
   "execution_count": 5,
   "metadata": {},
   "outputs": [],
   "source": [
    "table_countries=sel.xpath('//table[@class=\"wikitable sortable\"]/tbody/tr/td/b/text()')\n",
    "countries=[]\n",
    "for country in table_countries:\n",
    "    countries.append(country.extract())"
   ]
  },
  {
   "cell_type": "code",
   "execution_count": 6,
   "metadata": {},
   "outputs": [],
   "source": [
    "table_data=sel.xpath('//table[@class=\"wikitable sortable\"]/tbody/tr/td/text()')\n",
    "clean_list=[]\n",
    "#get clean data\n",
    "for data in table_data:\n",
    "    data=data.extract().strip()\n",
    "    clean_list.append(data)\n",
    "while '' in clean_list:\n",
    "    clean_list.remove('')"
   ]
  },
  {
   "cell_type": "code",
   "execution_count": 7,
   "metadata": {},
   "outputs": [],
   "source": [
    "#divide the data\n",
    "all_rows=[]\n",
    "rows=[]\n",
    "for i in range(len(clean_list)):\n",
    "    rows.append(clean_list[i])\n",
    "    if i%10==9:\n",
    "        all_rows.append(rows)\n",
    "        rows=[]\n"
   ]
  },
  {
   "cell_type": "code",
   "execution_count": 8,
   "metadata": {},
   "outputs": [],
   "source": [
    "#add country to the data row\n",
    "for i in range(len(countries)):\n",
    "    all_rows[i].insert(0,countries[i])"
   ]
  },
  {
   "cell_type": "code",
   "execution_count": 9,
   "metadata": {},
   "outputs": [],
   "source": [
    "#creating pandas dataframe\n",
    "\n",
    "df=pd.DataFrame(data=all_rows,columns=columns)\n",
    "df['Road deaths per Million Inhabitants'] = df['Road deaths']\n",
    "df['Year']=2018\n",
    "df=df.drop(columns=['Road Network Length','Number of People Killed','Number of Seriously Injured in 2017/2018','Road deaths'])\n",
    "df=df.sort_values(by=['Road deaths per Million Inhabitants'])\n",
    "df.to_csv(\"wiki_data.csv\",index=False)\n"
   ]
  },
  {
   "cell_type": "code",
   "execution_count": 339,
   "metadata": {},
   "outputs": [
    {
     "data": {
      "text/html": [
       "<div>\n",
       "<style scoped>\n",
       "    .dataframe tbody tr th:only-of-type {\n",
       "        vertical-align: middle;\n",
       "    }\n",
       "\n",
       "    .dataframe tbody tr th {\n",
       "        vertical-align: top;\n",
       "    }\n",
       "\n",
       "    .dataframe thead th {\n",
       "        text-align: right;\n",
       "    }\n",
       "</style>\n",
       "<table border=\"1\" class=\"dataframe\">\n",
       "  <thead>\n",
       "    <tr style=\"text-align: right;\">\n",
       "      <th></th>\n",
       "      <th>Country</th>\n",
       "      <th>Area</th>\n",
       "      <th>Population in 2018</th>\n",
       "      <th>GDP per capita in 2018</th>\n",
       "      <th>Population density</th>\n",
       "      <th>Vehicle ownership</th>\n",
       "      <th>Total Road Deaths in 2018</th>\n",
       "      <th>Road deaths per Million Inhabitants</th>\n",
       "      <th>Year</th>\n",
       "    </tr>\n",
       "  </thead>\n",
       "  <tbody>\n",
       "    <tr>\n",
       "      <td>0</td>\n",
       "      <td>United Kingdom</td>\n",
       "      <td>248.5</td>\n",
       "      <td>66,273,576</td>\n",
       "      <td>32,400</td>\n",
       "      <td>273</td>\n",
       "      <td>544</td>\n",
       "      <td>1,825</td>\n",
       "      <td>28</td>\n",
       "      <td>2018</td>\n",
       "    </tr>\n",
       "    <tr>\n",
       "      <td>1</td>\n",
       "      <td>Denmark</td>\n",
       "      <td>42.9</td>\n",
       "      <td>5,781,190</td>\n",
       "      <td>47,600</td>\n",
       "      <td>137</td>\n",
       "      <td>508</td>\n",
       "      <td>175</td>\n",
       "      <td>30</td>\n",
       "      <td>2018</td>\n",
       "    </tr>\n",
       "    <tr>\n",
       "      <td>2</td>\n",
       "      <td>Netherlands</td>\n",
       "      <td>41.5</td>\n",
       "      <td>17,181,084</td>\n",
       "      <td>41,500</td>\n",
       "      <td>508</td>\n",
       "      <td>543</td>\n",
       "      <td>678</td>\n",
       "      <td>31</td>\n",
       "      <td>2018</td>\n",
       "    </tr>\n",
       "    <tr>\n",
       "      <td>3</td>\n",
       "      <td>Ireland</td>\n",
       "      <td>69.8</td>\n",
       "      <td>4,830,392</td>\n",
       "      <td>59,400</td>\n",
       "      <td>70</td>\n",
       "      <td>525</td>\n",
       "      <td>146</td>\n",
       "      <td>31</td>\n",
       "      <td>2018</td>\n",
       "    </tr>\n",
       "    <tr>\n",
       "      <td>4</td>\n",
       "      <td>Sweden</td>\n",
       "      <td>438.6</td>\n",
       "      <td>10,120,242</td>\n",
       "      <td>43,300</td>\n",
       "      <td>25</td>\n",
       "      <td>542</td>\n",
       "      <td>324</td>\n",
       "      <td>32</td>\n",
       "      <td>2018</td>\n",
       "    </tr>\n",
       "  </tbody>\n",
       "</table>\n",
       "</div>"
      ],
      "text/plain": [
       "          Country   Area Population in 2018 GDP per capita in 2018  \\\n",
       "0  United Kingdom  248.5         66,273,576                 32,400   \n",
       "1         Denmark   42.9          5,781,190                 47,600   \n",
       "2     Netherlands   41.5         17,181,084                 41,500   \n",
       "3         Ireland   69.8          4,830,392                 59,400   \n",
       "4          Sweden  438.6         10,120,242                 43,300   \n",
       "\n",
       "  Population density  Vehicle ownership Total Road Deaths in 2018  \\\n",
       "0                273                544                     1,825   \n",
       "1                137                508                       175   \n",
       "2                508                543                       678   \n",
       "3                 70                525                       146   \n",
       "4                 25                542                       324   \n",
       "\n",
       "   Road deaths per Million Inhabitants  Year  \n",
       "0                                   28  2018  \n",
       "1                                   30  2018  \n",
       "2                                   31  2018  \n",
       "3                                   31  2018  \n",
       "4                                   32  2018  "
      ]
     },
     "execution_count": 339,
     "metadata": {},
     "output_type": "execute_result"
    }
   ],
   "source": [
    "df=pd.read_csv(\"data/wiki_data.csv\")\n",
    "df.head()"
   ]
  },
  {
   "cell_type": "code",
   "execution_count": null,
   "metadata": {},
   "outputs": [],
   "source": []
  }
 ],
 "metadata": {
  "kernelspec": {
   "display_name": "Python 3",
   "language": "python",
   "name": "python3"
  },
  "language_info": {
   "codemirror_mode": {
    "name": "ipython",
    "version": 3
   },
   "file_extension": ".py",
   "mimetype": "text/x-python",
   "name": "python",
   "nbconvert_exporter": "python",
   "pygments_lexer": "ipython3",
   "version": "3.7.4"
  }
 },
 "nbformat": 4,
 "nbformat_minor": 2
}
